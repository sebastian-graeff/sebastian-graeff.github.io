{
 "cells": [
  {
   "cell_type": "markdown",
   "metadata": {},
   "source": [
    "## Confidence Intervals"
   ]
  },
  {
   "cell_type": "code",
   "execution_count": 1,
   "metadata": {},
   "outputs": [],
   "source": [
    "import pandas as pd\n",
    "import numpy as np\n",
    "import matplotlib.pylab as plt"
   ]
  },
  {
   "cell_type": "markdown",
   "metadata": {},
   "source": [
    "**The example:** A teacher teaches a math classes. The average score on a math test is 60%, with a standard deviation of 10%. The teacher gives a sample group of 30 pupils apples before the lesson starts. The math test for the sample group has an average score of 68%. He wants to calculate with a 95% confidence interval (or we can say a alpha level of 0.05) if he can give apples to the whole class to improve math scores."
   ]
  },
  {
   "cell_type": "markdown",
   "metadata": {},
   "source": [
    "My null ($H_0$) and alternative ($H_1$) hypothesis:\n",
    "$$\n",
    "H_0: \\mu = 60%\n",
    "$$$$\n",
    "H_1: \\mu ≠ 60%\n",
    "$$"
   ]
  },
  {
   "cell_type": "markdown",
   "metadata": {},
   "source": [
    "### STEP 1: Find the critical value"
   ]
  },
  {
   "cell_type": "markdown",
   "metadata": {},
   "source": [
    "The critical value is the value that splits the graph into acceptable and non-acceptable values, so if we have a 95% confidence interval we have to take 5% of the tails, and in a two tailed test we take 2.5% off each tail. We can use a z-table to find these values, [here](http://users.stat.ufl.edu/~athienit/Tables/Ztable.pdf) is a link to one of these tables."
   ]
  },
  {
   "cell_type": "markdown",
   "metadata": {},
   "source": [
    "So from this table we find that a value of 0.025 to the left side has a critical value of **-1.96** and **1.96** to the right side."
   ]
  },
  {
   "cell_type": "markdown",
   "metadata": {},
   "source": [
    "### STEP 2: Find the standard error (this is the standard deviation of the sample)"
   ]
  },
  {
   "cell_type": "markdown",
   "metadata": {},
   "source": [
    "To find the standard deviation of a sample we use the formula:\n",
    "$$\n",
    "s=\\frac{\\sigma}{\\sqrt{n}}\n",
    "$$\n",
    "Where $\\sigma$ is the standard deviation of the population and $n$ is the number of samples\n",
    "$$\n",
    "s=\\frac{10}{\\sqrt{30}}\n",
    "$$\n",
    "This gives us: $s=1.83$"
   ]
  },
  {
   "cell_type": "markdown",
   "metadata": {},
   "source": [
    "### STEP 3: Find the confidence intervals"
   ]
  },
  {
   "cell_type": "markdown",
   "metadata": {},
   "source": [
    "**LOWER BOUND ** $= 60 + (-1.96\\times1.83) = 56.4$\n",
    "<br>\n",
    "**UPPER BOUND ** $= 60 + (1.96\\times1.83) = 63.6$"
   ]
  },
  {
   "cell_type": "markdown",
   "metadata": {},
   "source": [
    "### STEP 4: Find the probability that sample values are smaller or larger than the population mean"
   ]
  },
  {
   "cell_type": "markdown",
   "metadata": {},
   "source": [
    "We first have to find the z-score to find this probability, the z-score is the number of standard deviation a value is from the mean.\n",
    "\n",
    "$$\n",
    "zscore = \\frac{\\bar{\\mu}-\\mu}{s}\n",
    "$$\n",
    "\n",
    "Where $\\mu$ is the population mean, $\\bar{\\mu}$ is the sample mean and $s$ is the standard error\n",
    "\n",
    "$$\n",
    "zscore = \\frac{68-60}{1.83}\n",
    "$$\n",
    "\n",
    "This gives us a z-score's of 4.37, which we know is higher than our critical value of ±1.96. This goes out the scale of the z-table and so I assume that we get a probability of 1 of getting sample means higher than our population mean. This tells us that all pupils in the sample group get better results than the average score of the control group. In the below graph we can see this more clearly."
   ]
  },
  {
   "cell_type": "markdown",
   "metadata": {},
   "source": [
    "### Now we can simulate the graph"
   ]
  },
  {
   "cell_type": "code",
   "execution_count": 57,
   "metadata": {},
   "outputs": [],
   "source": [
    "sampling_dist = []\n",
    "\n",
    "# Generate 10000 events of a sampling distribution mean, given the mean and deviation of the population and sample\n",
    "for _ in range(10000):\n",
    "    samples = []\n",
    "    for _ in range(30):\n",
    "        samples.append(np.random.normal(60,10)) # The first argument is population mean and the second is deviation\n",
    "    sampling_dist.append(np.mean(samples))"
   ]
  },
  {
   "cell_type": "code",
   "execution_count": 58,
   "metadata": {},
   "outputs": [
    {
     "data": {
      "image/png": "[encoded data removed]",
      "text/plain": [
       "<Figure size 432x288 with 1 Axes>"
      ]
     },
     "metadata": {},
     "output_type": "display_data"
    }
   ],
   "source": [
    "lower_bound = 56.4\n",
    "upper_bound = 63.6\n",
    "sample_mean = 68\n",
    "\n",
    "plt.hist(sampling_dist,color='royalblue',label='Sampling Distribution')\n",
    "plt.axvline(x=lower_bound,c='r')\n",
    "plt.axvline(x=upper_bound,c='r')\n",
    "plt.axvline(x=sample_mean,c='g')\n",
    "plt.title(\"Student test results\")\n",
    "plt.xlabel(\"Test score (%)\")\n",
    "plt.ylabel(\"Number of occurances\")\n",
    "plt.legend()\n",
    "\n",
    "plt.show();"
   ]
  },
  {
   "cell_type": "markdown",
   "metadata": {},
   "source": [
    "From the above we see that the mean of the sample ($\\bar{\\mu}=68$, the green line) does not fall into the bounds of our confidence interval (red lines), this tells us that we can reject the null in favour of the alternative. This also means that the teacher should consider giving all students apples before teaching."
   ]
  },
  {
   "cell_type": "code",
   "execution_count": null,
   "metadata": {},
   "outputs": [],
   "source": []
  }
 ],
 "metadata": {
  "kernelspec": {
   "display_name": "Python 3",
   "language": "python",
   "name": "python3"
  },
  "language_info": {
   "codemirror_mode": {
    "name": "ipython",
    "version": 3
   },
   "file_extension": ".py",
   "mimetype": "text/x-python",
   "name": "python",
   "nbconvert_exporter": "python",
   "pygments_lexer": "ipython3",
   "version": "3.6.5"
  }
 },
 "nbformat": 4,
 "nbformat_minor": 2
}
