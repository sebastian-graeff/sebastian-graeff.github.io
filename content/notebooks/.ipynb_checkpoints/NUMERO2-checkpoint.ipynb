{
 "cells": [
  {
   "cell_type": "markdown",
   "metadata": {},
   "source": [
    "# T- tests"
   ]
  },
  {
   "cell_type": "markdown",
   "metadata": {},
   "source": [
    "**First, what are t-tests?**\n",
    "<br>\n",
    "<br>\n",
    "Well, t-tests are used when we **don't** know population parameters, just like we use z-tests when we **do** know population parameters. Here I show worked examples of one-sample and two-sample t-tests. A t-test can be carried out on dependent and independent samples. A dependent sample is a repeated measure, which means that a survey is carried on the same subject. this can mean that this may be a pre-test, post-test or longitudal (between different points in time) test. A independent sample is a measure where, the result does not depend on a previous test. Such as a survey of mean age in Zimbabwe and another in Mozambique. A independent samples are \"between-subject designs\" while dependent samples are \"within-subject designs\"."
   ]
  },
  {
   "cell_type": "markdown",
   "metadata": {},
   "source": [
    "Here I make use of two worked examples to firstly show how to evaluate dependent samples and then independent samples. **All data in the dataframes is not real** it's completely fake and only used for the purpose of showing how t-tests work."
   ]
  },
  {
   "cell_type": "code",
   "execution_count": 1,
   "metadata": {},
   "outputs": [],
   "source": [
    "import pandas as pd\n",
    "import numpy as np\n",
    "import matplotlib.pylab as plt\n",
    "import seaborn as sns"
   ]
  },
  {
   "cell_type": "markdown",
   "metadata": {},
   "source": [
    "## **Dependent sample example: AIDS rates in South Africa between 2001 and 2011**\n",
    "<br>\n",
    "<br>\n",
    "I created a dataframe which shows measures of AIDS prevalence in 15 random districts in South Africa."
   ]
  },
  {
   "cell_type": "code",
   "execution_count": 2,
   "metadata": {},
   "outputs": [
    {
     "data": {
      "text/html": [
       "<div>\n",
       "<style scoped>\n",
       "    .dataframe tbody tr th:only-of-type {\n",
       "        vertical-align: middle;\n",
       "    }\n",
       "\n",
       "    .dataframe tbody tr th {\n",
       "        vertical-align: top;\n",
       "    }\n",
       "\n",
       "    .dataframe thead th {\n",
       "        text-align: right;\n",
       "    }\n",
       "</style>\n",
       "<table border=\"1\" class=\"dataframe\">\n",
       "  <thead>\n",
       "    <tr style=\"text-align: right;\">\n",
       "      <th></th>\n",
       "      <th>2001</th>\n",
       "      <th>2011</th>\n",
       "    </tr>\n",
       "  </thead>\n",
       "  <tbody>\n",
       "    <tr>\n",
       "      <th>0</th>\n",
       "      <td>27.081426</td>\n",
       "      <td>32.051878</td>\n",
       "    </tr>\n",
       "    <tr>\n",
       "      <th>1</th>\n",
       "      <td>28.666287</td>\n",
       "      <td>29.309436</td>\n",
       "    </tr>\n",
       "    <tr>\n",
       "      <th>2</th>\n",
       "      <td>26.245007</td>\n",
       "      <td>30.401871</td>\n",
       "    </tr>\n",
       "    <tr>\n",
       "      <th>3</th>\n",
       "      <td>24.936959</td>\n",
       "      <td>27.730607</td>\n",
       "    </tr>\n",
       "    <tr>\n",
       "      <th>4</th>\n",
       "      <td>25.887478</td>\n",
       "      <td>25.763822</td>\n",
       "    </tr>\n",
       "  </tbody>\n",
       "</table>\n",
       "</div>"
      ],
      "text/plain": [
       "        2001       2011\n",
       "0  27.081426  32.051878\n",
       "1  28.666287  29.309436\n",
       "2  26.245007  30.401871\n",
       "3  24.936959  27.730607\n",
       "4  25.887478  25.763822"
      ]
     },
     "execution_count": 2,
     "metadata": {},
     "output_type": "execute_result"
    }
   ],
   "source": [
    "df = pd.DataFrame(data = {\"2001\": np.random.normal(24.8,2.15,15), \"2011\": np.random.normal(29.5,2.76,15)})\n",
    "df.head()"
   ]
  },
  {
   "cell_type": "markdown",
   "metadata": {},
   "source": [
    "The dependent variable here (the outcome) is the AIDS prevelance rate while the independent variable is the year. Now, lets devise our hypothesis."
   ]
  },
  {
   "cell_type": "markdown",
   "metadata": {},
   "source": [
    "My null ($H_0$) and alternative ($H_1$) hypothesis:\n",
    "$$\n",
    "H_0: \\mu_{2011} -\\mu_{2001} = 0\n",
    "$$$$\n",
    "H_1: \\mu_{2011} -\\mu_{2001} ≠ 0\n",
    "$$"
   ]
  },
  {
   "cell_type": "markdown",
   "metadata": {},
   "source": [
    "**Make some plots of the data**"
   ]
  },
  {
   "cell_type": "code",
   "execution_count": 3,
   "metadata": {},
   "outputs": [
    {
     "data": {
      "image/png": "[encoded data removed]",
      "text/plain": [
       "<Figure size 432x288 with 1 Axes>"
      ]
     },
     "metadata": {},
     "output_type": "display_data"
    }
   ],
   "source": [
    "sns.distplot(df['2001'], label = \"2001\")\n",
    "sns.distplot(df['2011'], label = \"2011\")\n",
    "plt.axvline(df['2001'].mean())\n",
    "plt.axvline(df['2011'].mean(),c = '#FF8C09')\n",
    "plt.title(\"Density plot of AIDS prevelance rates over the years\")\n",
    "plt.xlabel(\"Prevelance %\")\n",
    "plt.legend();"
   ]
  },
  {
   "cell_type": "code",
   "execution_count": 4,
   "metadata": {},
   "outputs": [
    {
     "data": {
      "image/png": "[encoded data removed]",
      "text/plain": [
       "<Figure size 432x288 with 1 Axes>"
      ]
     },
     "metadata": {},
     "output_type": "display_data"
    }
   ],
   "source": [
    "diff = df['2011']-df['2001']\n",
    "\n",
    "plt.barh(df.index,diff)\n",
    "\n",
    "plt.title(\"Change of AIDS prevelance per municipality over the timespan\")\n",
    "plt.xlabel(\"Percentage change\")\n",
    "plt.ylabel(\"Municipality\")\n",
    "\n",
    "plt.axvline(diff.mean(),c='red',label='Mean percentage change of AIDS perevlance')\n",
    "plt.legend();"
   ]
  },
  {
   "cell_type": "markdown",
   "metadata": {},
   "source": [
    "### STEP 1: Find the critical value"
   ]
  },
  {
   "cell_type": "markdown",
   "metadata": {},
   "source": [
    "For every hypothesis test we have to create a alpha level, which is the probability of rejecting the null hypothesis, when the null hypothesis is true. Shorthand, the alpha level is really the probability, that we get a Type I error. Most of the time we use a alpha level of 5% (0.05), this means we are willing to risk 5% of getting a Type I error. In t-tests we use a t-table to find the t-critical value. The critical value is the value that splits the graph into acceptable and non-acceptable values, so if we have a alpha level of 5%, we take 5% off the tails, in a two tailed test we take 2.5% off each tail. Use a t-table such as [here](https://www.stat.tamu.edu/~lzhou/stat302/T-Table.pdf)."
   ]
  },
  {
   "cell_type": "markdown",
   "metadata": {},
   "source": [
    "So from this table we find that we get a **t-critical value of ±2.145**. We find this with 14 degrees of freedom (remember degrees of freedom are size of sample minus one) and a p-value of 2.5% off each tail."
   ]
  },
  {
   "cell_type": "markdown",
   "metadata": {},
   "source": [
    "### Step 2: Find the means and standard deviations"
   ]
  },
  {
   "cell_type": "code",
   "execution_count": 5,
   "metadata": {},
   "outputs": [
    {
     "name": "stdout",
     "output_type": "stream",
     "text": [
      "2001 mean: 24.876672810917867\n",
      "2011 mean: 30.72369546934397\n",
      "2001 standard deviation: 2.050758357653504\n",
      "2011 standard deviation: 2.8237156632759803\n"
     ]
    }
   ],
   "source": [
    "print (\"2001 mean: \" + str(df['2001'].mean()))\n",
    "print (\"2011 mean: \" + str(df['2011'].mean()))\n",
    "print (\"2001 standard deviation: \" + str(df['2001'].std()))\n",
    "print (\"2011 standard deviation: \" + str(df['2011'].std()))"
   ]
  },
  {
   "cell_type": "markdown",
   "metadata": {},
   "source": [
    "The point estimate is the single value given as an estimate of a parameter of a population. here this is the 2011 mean minus the 2001 mean."
   ]
  },
  {
   "cell_type": "code",
   "execution_count": 6,
   "metadata": {},
   "outputs": [
    {
     "data": {
      "text/plain": [
       "5.847022658426102"
      ]
     },
     "execution_count": 6,
     "metadata": {},
     "output_type": "execute_result"
    }
   ],
   "source": [
    "PE = (df['2011'].mean())-(df['2001'].mean())\n",
    "PE"
   ]
  },
  {
   "cell_type": "markdown",
   "metadata": {},
   "source": [
    "Now calculate the standard deviation of the differences by creating a new column to record the differnces in each row and taking the deviations of all these."
   ]
  },
  {
   "cell_type": "code",
   "execution_count": 7,
   "metadata": {},
   "outputs": [
    {
     "data": {
      "text/plain": [
       "3.9027282742166203"
      ]
     },
     "execution_count": 7,
     "metadata": {},
     "output_type": "execute_result"
    }
   ],
   "source": [
    "df['Diff'] = df['2011'] - df['2001']\n",
    "std = df.Diff.std()\n",
    "std"
   ]
  },
  {
   "cell_type": "markdown",
   "metadata": {},
   "source": [
    "### STEP 2: Find the standard error of means (this is the standard deviation of the sample) "
   ]
  },
  {
   "cell_type": "markdown",
   "metadata": {},
   "source": [
    "To find the standard error of means (SEM) we use the formula:\n",
    "$$\n",
    "SEM=\\frac{s}{\\sqrt{n}}\n",
    "$$\n",
    "Where $s$ is the standard deviation of the differences as calculated above, and $n$ is the size of the sample.\n",
    "$$\n",
    "SEM=\\frac{3.279}{\\sqrt{15}}\n",
    "$$\n",
    "$$\n",
    "SEM=0.847\n",
    "$$"
   ]
  },
  {
   "cell_type": "markdown",
   "metadata": {},
   "source": [
    "### STEP 4: Calculate the t-statistic"
   ]
  },
  {
   "cell_type": "markdown",
   "metadata": {},
   "source": [
    "Now lets calculate the t-statistic. Afterwards we wil compare this with the t-critical value. If the t-statistic is greater than the t-critical value, then we reject the null hypothesis in favor of the alternative.\n",
    "\n",
    "$$\n",
    "t-statistic = \\frac{(\\bar{X}_{2011}-\\bar{X}_{2001})-(\\mu_{2011}-\\mu_{2001})}{SEM}\n",
    "$$\n",
    "\n",
    "Where $(\\bar{X}_{2011}-\\bar{X}_{2001})$ is the point estimate, $(\\mu_{2011}-\\mu_{2001})$ is zero here because of our hypothesis, $s$ is the standard error\n",
    "\n",
    "$$\n",
    "t-statistic = \\frac{4.587-0}{0.847}\n",
    "$$\n",
    "$$\n",
    "t-statistic = 5.416\n",
    "$$"
   ]
  },
  {
   "cell_type": "markdown",
   "metadata": {},
   "source": [
    "This t-statistic is greater than our t-critical value of ±2.145. This also means we get a p-value below 0.0001, which means that our result is extremely statistically significant. Therefore we can be certain that the 2011 results are very much different to those in 2001, and in this case much higher. We can comfortably say that **we reject the null in favor of the alternative**."
   ]
  },
  {
   "cell_type": "markdown",
   "metadata": {},
   "source": [
    "<br>"
   ]
  },
  {
   "cell_type": "markdown",
   "metadata": {},
   "source": [
    "## **Independent sample example: AIDS rates in South Africa and Lesotho in 2018**\n",
    "<br>\n",
    "<br>\n",
    "I created a dataframe which shows measures of AIDS prevalence in 23 random districts in South Africa and 27 random districts in Lesotho."
   ]
  },
  {
   "cell_type": "code",
   "execution_count": 8,
   "metadata": {},
   "outputs": [],
   "source": [
    "SA = pd.DataFrame(data = {\"South Africa\": np.random.normal(18.8,3.23,23)})\n",
    "Lesotho = pd.DataFrame(data = {\"Lesotho\": np.random.normal(23.8,2.46,27)})"
   ]
  },
  {
   "cell_type": "code",
   "execution_count": 9,
   "metadata": {},
   "outputs": [
    {
     "data": {
      "text/html": [
       "<div>\n",
       "<style scoped>\n",
       "    .dataframe tbody tr th:only-of-type {\n",
       "        vertical-align: middle;\n",
       "    }\n",
       "\n",
       "    .dataframe tbody tr th {\n",
       "        vertical-align: top;\n",
       "    }\n",
       "\n",
       "    .dataframe thead th {\n",
       "        text-align: right;\n",
       "    }\n",
       "</style>\n",
       "<table border=\"1\" class=\"dataframe\">\n",
       "  <thead>\n",
       "    <tr style=\"text-align: right;\">\n",
       "      <th></th>\n",
       "      <th>South Africa</th>\n",
       "    </tr>\n",
       "  </thead>\n",
       "  <tbody>\n",
       "    <tr>\n",
       "      <th>0</th>\n",
       "      <td>12.845046</td>\n",
       "    </tr>\n",
       "    <tr>\n",
       "      <th>1</th>\n",
       "      <td>17.209565</td>\n",
       "    </tr>\n",
       "    <tr>\n",
       "      <th>2</th>\n",
       "      <td>18.249125</td>\n",
       "    </tr>\n",
       "    <tr>\n",
       "      <th>3</th>\n",
       "      <td>19.125815</td>\n",
       "    </tr>\n",
       "    <tr>\n",
       "      <th>4</th>\n",
       "      <td>25.540817</td>\n",
       "    </tr>\n",
       "  </tbody>\n",
       "</table>\n",
       "</div>"
      ],
      "text/plain": [
       "   South Africa\n",
       "0     12.845046\n",
       "1     17.209565\n",
       "2     18.249125\n",
       "3     19.125815\n",
       "4     25.540817"
      ]
     },
     "execution_count": 9,
     "metadata": {},
     "output_type": "execute_result"
    }
   ],
   "source": [
    "SA.head()"
   ]
  },
  {
   "cell_type": "code",
   "execution_count": 10,
   "metadata": {},
   "outputs": [
    {
     "data": {
      "text/html": [
       "<div>\n",
       "<style scoped>\n",
       "    .dataframe tbody tr th:only-of-type {\n",
       "        vertical-align: middle;\n",
       "    }\n",
       "\n",
       "    .dataframe tbody tr th {\n",
       "        vertical-align: top;\n",
       "    }\n",
       "\n",
       "    .dataframe thead th {\n",
       "        text-align: right;\n",
       "    }\n",
       "</style>\n",
       "<table border=\"1\" class=\"dataframe\">\n",
       "  <thead>\n",
       "    <tr style=\"text-align: right;\">\n",
       "      <th></th>\n",
       "      <th>Lesotho</th>\n",
       "    </tr>\n",
       "  </thead>\n",
       "  <tbody>\n",
       "    <tr>\n",
       "      <th>0</th>\n",
       "      <td>22.517536</td>\n",
       "    </tr>\n",
       "    <tr>\n",
       "      <th>1</th>\n",
       "      <td>23.592696</td>\n",
       "    </tr>\n",
       "    <tr>\n",
       "      <th>2</th>\n",
       "      <td>25.728880</td>\n",
       "    </tr>\n",
       "    <tr>\n",
       "      <th>3</th>\n",
       "      <td>18.847293</td>\n",
       "    </tr>\n",
       "    <tr>\n",
       "      <th>4</th>\n",
       "      <td>23.821667</td>\n",
       "    </tr>\n",
       "  </tbody>\n",
       "</table>\n",
       "</div>"
      ],
      "text/plain": [
       "     Lesotho\n",
       "0  22.517536\n",
       "1  23.592696\n",
       "2  25.728880\n",
       "3  18.847293\n",
       "4  23.821667"
      ]
     },
     "execution_count": 10,
     "metadata": {},
     "output_type": "execute_result"
    }
   ],
   "source": [
    "Lesotho.head()"
   ]
  },
  {
   "cell_type": "markdown",
   "metadata": {},
   "source": [
    "Now thats my two independent samples, now lets devise our hypothesis:"
   ]
  },
  {
   "cell_type": "markdown",
   "metadata": {},
   "source": [
    "My null ($H_0$) and alternative ($H_1$) hypothesis:\n",
    "$$\n",
    "H_0: \\mu_{Lesotho} -\\mu_{South Africa} = 0\n",
    "$$$$\n",
    "H_1: \\mu_{Lesotho} -\\mu_{South AFrica} ≠ 0\n",
    "$$"
   ]
  },
  {
   "cell_type": "markdown",
   "metadata": {},
   "source": [
    "**Again, some plots of the data (you don't really have to do this)**"
   ]
  },
  {
   "cell_type": "code",
   "execution_count": 11,
   "metadata": {},
   "outputs": [
    {
     "data": {
      "image/png": "[encoded data removed]",
      "text/plain": [
       "<Figure size 432x288 with 1 Axes>"
      ]
     },
     "metadata": {},
     "output_type": "display_data"
    }
   ],
   "source": [
    "sns.distplot(SA['South Africa'], label = \"South Africa\")\n",
    "sns.distplot(Lesotho['Lesotho'], label = \"Lesotho\")\n",
    "plt.axvline(SA['South Africa'].mean())\n",
    "plt.axvline(Lesotho['Lesotho'].mean(),c = '#FF8C09')\n",
    "plt.title(\"Density plot of AIDS in South Africa and Lesotho\")\n",
    "plt.xlabel(\"Prevelance %\")\n",
    "plt.legend();"
   ]
  },
  {
   "cell_type": "markdown",
   "metadata": {},
   "source": [
    "### Step 1: Find the t-critical value"
   ]
  },
  {
   "cell_type": "markdown",
   "metadata": {},
   "source": [
    "Once again just as explained above, use a t-table such as [this one](https://www.stat.tamu.edu/~lzhou/stat302/T-Table.pdf), to find the critical value - again with a alpha value of 0.05. However, this time take into account the degrees of freedom for the South Africa sample is 22 and the degrees of freedom for the Lesotho sample is 26. In independent samples we get the degree of freedom by adding the degrees of freedom of all samples together,  here this equals 48. Therefore we get a t-critical value of around **±2.009**"
   ]
  },
  {
   "cell_type": "markdown",
   "metadata": {},
   "source": [
    "### Step 2: FInd means and standard deviations"
   ]
  },
  {
   "cell_type": "code",
   "execution_count": 12,
   "metadata": {},
   "outputs": [
    {
     "name": "stdout",
     "output_type": "stream",
     "text": [
      "South Africa mean: 18.22743457567963\n",
      "Lesotho mean: 24.08869999475644\n",
      "South Africa standard deviation: 3.9344673071137346\n",
      "Lesotho standard deviation: 3.0001899681263486\n"
     ]
    }
   ],
   "source": [
    "print (\"South Africa mean: \" + str(SA['South Africa'].mean()))\n",
    "print (\"Lesotho mean: \" + str(Lesotho['Lesotho'].mean()))\n",
    "print (\"South Africa standard deviation: \" + str(SA['South Africa'].std()))\n",
    "print (\"Lesotho standard deviation: \" + str(Lesotho['Lesotho'].std()))"
   ]
  },
  {
   "cell_type": "markdown",
   "metadata": {},
   "source": [
    "Find the point estimate"
   ]
  },
  {
   "cell_type": "code",
   "execution_count": 13,
   "metadata": {},
   "outputs": [
    {
     "data": {
      "text/plain": [
       "5.861265419076808"
      ]
     },
     "execution_count": 13,
     "metadata": {},
     "output_type": "execute_result"
    }
   ],
   "source": [
    "PE = (Lesotho['Lesotho'].mean())-(SA['South Africa'].mean())\n",
    "PE"
   ]
  },
  {
   "cell_type": "markdown",
   "metadata": {},
   "source": [
    "### Step 3: Find the standard error of the mean"
   ]
  },
  {
   "cell_type": "markdown",
   "metadata": {},
   "source": [
    "In independent samples we can have different sample sizes, so we use a different formula to that of dependent samples. Also, in independent samples we subtract one sample (normal distribution) from the other. Subtracting normal distributions gives us the formula: $s=\\sqrt{s_1^2 + s_2^2}$. We can use this formula to derive the standard error of mean (SEM) of indpendent variables:\n",
    "$$\n",
    "SEM = \\frac{s}{\\sqrt{n}} = \\frac{\\sqrt{s_1^2 + s_2^2}}{\\sqrt{n}} = \\sqrt\\frac{s_1^2 + s_2^2}{n} = \\sqrt{\\frac{s_1^2}{n_1} + \\frac{s_2^2}{n_2}}\n",
    "$$\n",
    "\n",
    "Where $s$ are the standard deviations and $n$ is the size of the sample."
   ]
  },
  {
   "cell_type": "markdown",
   "metadata": {},
   "source": [
    "Using this SEM formula, we can calculate the SEM:\n",
    "$$\n",
    "SEM = \\sqrt{\\frac{s_{Lesotho}^2}{n_{Lesotho}} + \\frac{s_{SA}^2}{n_{SA}}}\n",
    "$$\n",
    "\n",
    "$$\n",
    "SEM = \\sqrt{\\frac{2.393^2}{27} + \\frac{2.823^2}{23}}\n",
    "$$\n",
    "\n",
    "$$\n",
    "SEM = 0.747\n",
    "$$"
   ]
  },
  {
   "cell_type": "markdown",
   "metadata": {},
   "source": [
    "### Step 4: Calculate the t-statistic"
   ]
  },
  {
   "cell_type": "markdown",
   "metadata": {},
   "source": [
    "The t-statistic is calculated just like in dependent samples. So lets calculate this value:\n",
    "$$\n",
    "t-statistic = \\frac{(\\bar{X}_{Lesotho}-\\bar{X}_{SA})-(\\mu_{Lesotho}-\\mu_{SA})}{SEM}\n",
    "$$\n",
    "\n",
    "Where $(\\bar{X}_{Lesotho}-\\bar{X}_{SA})$ is once again the point estimate and $(\\mu_{Lesotho}-\\mu_{SA})$ will again remain zero, just like in our hypothesis.\n",
    "\n",
    "$$\n",
    "t-statistic = \\frac{5.583 - 0}{0.747}\n",
    "$$\n",
    "\n",
    "$$\n",
    "t-statistic = 7.47\n",
    "$$"
   ]
  },
  {
   "cell_type": "markdown",
   "metadata": {},
   "source": [
    "This t-statistic is greater than our t-critical value of ±2.009. This again means we get a p-value below 0.0001, which means that our result is extremely statistically significant. We can be certain that the AIDS prevelance in Lesotho is much larger than that in South Africa. We can comfortably say that **we reject the null in favor of the alternative**."
   ]
  },
  {
   "cell_type": "code",
   "execution_count": null,
   "metadata": {},
   "outputs": [],
   "source": []
  }
 ],
 "metadata": {
  "kernelspec": {
   "display_name": "Python 3",
   "language": "python",
   "name": "python3"
  },
  "language_info": {
   "codemirror_mode": {
    "name": "ipython",
    "version": 3
   },
   "file_extension": ".py",
   "mimetype": "text/x-python",
   "name": "python",
   "nbconvert_exporter": "python",
   "pygments_lexer": "ipython3",
   "version": "3.6.5"
  }
 },
 "nbformat": 4,
 "nbformat_minor": 2
}
